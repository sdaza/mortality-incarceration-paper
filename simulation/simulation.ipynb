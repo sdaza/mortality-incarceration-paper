{
 "cells": [
  {
   "cell_type": "markdown",
   "metadata": {},
   "source": [
    "# Simulation for Data Setup\n",
    "\n",
    "We use a simulation implemented in Anylogic 8.1 to check our implementation is correct. The generative process can be summarized in the figure below: \n",
    "\n",
    "![model](model.png)\n",
    "\n",
    "Using life table age-specific mortality rates, the U.S. age population distribution, and a constant imprisonment rate equals to 0.007 between ages 18 and 45, otherwise that rate is 0. Being in prison increases age-specific mortality rates by 1.90. \n",
    "\n",
    "We generated 1000 samples using 10,000 individuals. Individuals enter to the observation window at different ages (based on the U.S. age distribution) and  right censoring is defined using a uniform distribution (`censoring = uniform(age_enter, 120)`)\n"
   ]
  },
  {
   "cell_type": "code",
   "execution_count": null,
   "metadata": {},
   "outputs": [],
   "source": [
    "library(sdazar)\n",
    "library(survival)\n",
    "library(texreg)\n",
    "library(eha)\n",
    "\n",
    "# dat <- fread(\"~/Desktop/incarcerationABM/output.csv\")\n",
    "# length(table(dat$rep)) # high correlation between enter and censoring"
   ]
  },
  {
   "cell_type": "markdown",
   "metadata": {},
   "source": [
    "I run 1000 Cox models adjusting by a time-varying prison variable (only 1s after the incarceration transition occurs), that is, there is a split in the data when incarceration takes place, and I also adjust by age (start and stop times represent the observation window, not age, as in our analysis of PSID and NLSY). The key event is death. Below an example of the data setup."
   ]
  }
 ],
 "metadata": {
  "kernelspec": {
   "display_name": "R",
   "language": "R",
   "name": "ir"
  },
  "language_info": {
   "codemirror_mode": "r",
   "file_extension": ".r",
   "mimetype": "text/x-r-source",
   "name": "R",
   "pygments_lexer": "r",
   "version": "3.4.1"
  }
 },
 "nbformat": 4,
 "nbformat_minor": 2
}
