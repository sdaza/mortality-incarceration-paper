{
 "cells": [
  {
   "cell_type": "markdown",
   "metadata": {},
   "source": [
    "# Example MSM"
   ]
  },
  {
   "cell_type": "code",
   "execution_count": 7,
   "metadata": {},
   "outputs": [],
   "source": [
    "library(ipw)\n",
    "library(texreg)\n",
    "library(data.table)\n",
    "library(survival)\n",
    "\n",
    "options(repr.plot.width=6, repr.plot.height=4)"
   ]
  },
  {
   "cell_type": "code",
   "execution_count": 8,
   "metadata": {},
   "outputs": [
    {
     "data": {
      "text/html": [
       "<table>\n",
       "<thead><tr><th scope=col>patient</th><th scope=col>tstart</th><th scope=col>fuptime</th><th scope=col>haartind</th><th scope=col>event</th><th scope=col>sex</th><th scope=col>age</th><th scope=col>cd4.sqrt</th><th scope=col>endtime</th><th scope=col>dropout</th></tr></thead>\n",
       "<tbody>\n",
       "\t<tr><td>1       </td><td>-100    </td><td>  0     </td><td>0       </td><td>0       </td><td>1       </td><td>22      </td><td>23.83275</td><td>2900    </td><td>0       </td></tr>\n",
       "\t<tr><td>1       </td><td>   0    </td><td>100     </td><td>0       </td><td>0       </td><td>1       </td><td>22      </td><td>25.59297</td><td>2900    </td><td>0       </td></tr>\n",
       "\t<tr><td>1       </td><td> 100    </td><td>200     </td><td>0       </td><td>0       </td><td>1       </td><td>22      </td><td>23.47339</td><td>2900    </td><td>0       </td></tr>\n",
       "\t<tr><td>1       </td><td> 200    </td><td>300     </td><td>0       </td><td>0       </td><td>1       </td><td>22      </td><td>24.16609</td><td>2900    </td><td>0       </td></tr>\n",
       "\t<tr><td>1       </td><td> 300    </td><td>400     </td><td>0       </td><td>0       </td><td>1       </td><td>22      </td><td>23.23790</td><td>2900    </td><td>0       </td></tr>\n",
       "\t<tr><td>1       </td><td> 400    </td><td>500     </td><td>0       </td><td>0       </td><td>1       </td><td>22      </td><td>24.85961</td><td>2900    </td><td>0       </td></tr>\n",
       "</tbody>\n",
       "</table>\n"
      ],
      "text/latex": [
       "\\begin{tabular}{r|llllllllll}\n",
       " patient & tstart & fuptime & haartind & event & sex & age & cd4.sqrt & endtime & dropout\\\\\n",
       "\\hline\n",
       "\t 1        & -100     &   0      & 0        & 0        & 1        & 22       & 23.83275 & 2900     & 0       \\\\\n",
       "\t 1        &    0     & 100      & 0        & 0        & 1        & 22       & 25.59297 & 2900     & 0       \\\\\n",
       "\t 1        &  100     & 200      & 0        & 0        & 1        & 22       & 23.47339 & 2900     & 0       \\\\\n",
       "\t 1        &  200     & 300      & 0        & 0        & 1        & 22       & 24.16609 & 2900     & 0       \\\\\n",
       "\t 1        &  300     & 400      & 0        & 0        & 1        & 22       & 23.23790 & 2900     & 0       \\\\\n",
       "\t 1        &  400     & 500      & 0        & 0        & 1        & 22       & 24.85961 & 2900     & 0       \\\\\n",
       "\\end{tabular}\n"
      ],
      "text/markdown": [
       "\n",
       "patient | tstart | fuptime | haartind | event | sex | age | cd4.sqrt | endtime | dropout | \n",
       "|---|---|---|---|---|---|\n",
       "| 1        | -100     |   0      | 0        | 0        | 1        | 22       | 23.83275 | 2900     | 0        | \n",
       "| 1        |    0     | 100      | 0        | 0        | 1        | 22       | 25.59297 | 2900     | 0        | \n",
       "| 1        |  100     | 200      | 0        | 0        | 1        | 22       | 23.47339 | 2900     | 0        | \n",
       "| 1        |  200     | 300      | 0        | 0        | 1        | 22       | 24.16609 | 2900     | 0        | \n",
       "| 1        |  300     | 400      | 0        | 0        | 1        | 22       | 23.23790 | 2900     | 0        | \n",
       "| 1        |  400     | 500      | 0        | 0        | 1        | 22       | 24.85961 | 2900     | 0        | \n",
       "\n",
       "\n"
      ],
      "text/plain": [
       "  patient tstart fuptime haartind event sex age cd4.sqrt endtime dropout\n",
       "1 1       -100     0     0        0     1   22  23.83275 2900    0      \n",
       "2 1          0   100     0        0     1   22  25.59297 2900    0      \n",
       "3 1        100   200     0        0     1   22  23.47339 2900    0      \n",
       "4 1        200   300     0        0     1   22  24.16609 2900    0      \n",
       "5 1        300   400     0        0     1   22  23.23790 2900    0      \n",
       "6 1        400   500     0        0     1   22  24.85961 2900    0      "
      ]
     },
     "metadata": {},
     "output_type": "display_data"
    }
   ],
   "source": [
    "data(\"haartdat\")\n",
    "head(haartdat)"
   ]
  },
  {
   "cell_type": "code",
   "execution_count": 9,
   "metadata": {},
   "outputs": [
    {
     "data": {
      "image/png": "[encoded data removed]",
      "text/plain": [
       "Plot with title “age distribution”"
      ]
     },
     "metadata": {},
     "output_type": "display_data"
    }
   ],
   "source": [
    "hist(haartdat$age, main='age distribution')"
   ]
  },
  {
   "cell_type": "markdown",
   "metadata": {},
   "source": [
    "- event is an indicator for death at the end of the interval (0 = alive/1 = died),  sex is sex (0 = male/1 = female),\n",
    "\n",
    "- age is age at the start of follow-up (years),\n",
    "\n",
    "- cd4.sqrt is the square root of CD4 count, measured at the end of each interval, but before haartind. Note that in each row, corresponding to time point j in individual i, cd4.sqrt has an effect on haartind in the same row, including at time 0."
   ]
  },
  {
   "cell_type": "markdown",
   "metadata": {},
   "source": [
    "# Naive model"
   ]
  },
  {
   "cell_type": "code",
   "execution_count": 12,
   "metadata": {},
   "outputs": [
    {
     "name": "stdout",
     "output_type": "stream",
     "text": [
      "\n",
      "======================\n",
      "             Model 1  \n",
      "----------------------\n",
      "haartind        -0.59 \n",
      "                (0.43)\n",
      "----------------------\n",
      "AIC            390.28 \n",
      "R^2              0.00 \n",
      "Max. R^2         0.02 \n",
      "Num. events     31    \n",
      "Num. obs.    19175    \n",
      "Missings         0    \n",
      "======================\n",
      "*** p < 0.001, ** p < 0.01, * p < 0.05\n"
     ]
    }
   ],
   "source": [
    "m0 = coxph(Surv(tstart, fuptime, event) ~ haartind +  cluster(patient), \n",
    "              data = haartdat)\n",
    "\n",
    "print(screenreg(m0,include.zph = FALSE))"
   ]
  },
  {
   "cell_type": "markdown",
   "metadata": {},
   "source": [
    "# Incorrect model with time-varying controls"
   ]
  },
  {
   "cell_type": "code",
   "execution_count": 15,
   "metadata": {},
   "outputs": [
    {
     "name": "stdout",
     "output_type": "stream",
     "text": [
      "\n",
      "=========================\n",
      "             Model 1     \n",
      "-------------------------\n",
      "haartind        -0.62    \n",
      "                (0.42)   \n",
      "cd4.sqrt        -0.13 ** \n",
      "                (0.05)   \n",
      "age              0.06 ***\n",
      "                (0.02)   \n",
      "sex              0.04    \n",
      "                (0.45)   \n",
      "-------------------------\n",
      "AIC            366.73    \n",
      "R^2              0.00    \n",
      "Max. R^2         0.02    \n",
      "Num. events     31       \n",
      "Num. obs.    19175       \n",
      "Missings         0       \n",
      "=========================\n",
      "*** p < 0.001, ** p < 0.01, * p < 0.05\n"
     ]
    }
   ],
   "source": [
    "m1 = coxph(Surv(tstart, fuptime, event) ~ haartind +  cd4.sqrt + age + sex +  cluster(patient), \n",
    "              data = haartdat)\n",
    "\n",
    "print(screenreg(m1,include.zph = FALSE))"
   ]
  },
  {
   "cell_type": "markdown",
   "metadata": {},
   "source": [
    "# MSM\n",
    "\n",
    "- In general, people don't control again for time-invariant covariates"
   ]
  },
  {
   "cell_type": "code",
   "execution_count": 18,
   "metadata": {},
   "outputs": [
    {
     "name": "stdout",
     "output_type": "stream",
     "text": [
      "\n",
      "=======================\n",
      "             Model 1   \n",
      "-----------------------\n",
      "haartind        -0.94 *\n",
      "                (0.45) \n",
      "-----------------------\n",
      "AIC            447.93  \n",
      "R^2              0.00  \n",
      "Max. R^2         0.02  \n",
      "Num. events     31     \n",
      "Num. obs.    19175     \n",
      "Missings         0     \n",
      "=======================\n",
      "*** p < 0.001, ** p < 0.01, * p < 0.05\n"
     ]
    }
   ],
   "source": [
    "temp <- ipwtm(exposure = haartind, family = \"survival\", \n",
    "              numerator = ~ sex + age, \n",
    "              denominator = ~ cd4.sqrt + sex + age, id = patient, \n",
    "              tstart = tstart, timevar = fuptime, type = \"first\", data = haartdat)\n",
    "\n",
    "temp2 <- ipwtm(exposure = dropout, family = \"survival\",\n",
    "               numerator = ~ sex + age, denominator = ~ cd4.sqrt + sex + age, \n",
    "               id = patient, tstart = tstart, timevar = fuptime, \n",
    "               type = \"first\",\n",
    "              data = haartdat)\n",
    "\n",
    "m2 = coxph(Surv(tstart, fuptime, event) ~ haartind +  cluster(patient), \n",
    "              data = haartdat, weights = temp$ipw.weights*temp2$ipw.weights)\n",
    "\n",
    "print(screenreg(m2, include.zph = FALSE))"
   ]
  },
  {
   "cell_type": "markdown",
   "metadata": {},
   "source": [
    "If I control for time-invariant variables, coefficient only changes slightly. "
   ]
  },
  {
   "cell_type": "code",
   "execution_count": 20,
   "metadata": {},
   "outputs": [
    {
     "name": "stdout",
     "output_type": "stream",
     "text": [
      "\n",
      "=========================\n",
      "             Model 1     \n",
      "-------------------------\n",
      "haartind        -0.96 *  \n",
      "                (0.45)   \n",
      "sex              0.10    \n",
      "                (0.45)   \n",
      "age              0.06 ***\n",
      "                (0.02)   \n",
      "-------------------------\n",
      "AIC            433.23    \n",
      "R^2              0.00    \n",
      "Max. R^2         0.02    \n",
      "Num. events     31       \n",
      "Num. obs.    19175       \n",
      "Missings         0       \n",
      "=========================\n",
      "*** p < 0.001, ** p < 0.01, * p < 0.05\n"
     ]
    }
   ],
   "source": [
    "m3 = coxph(Surv(tstart, fuptime, event) ~ haartind + sex + age + cluster(patient), \n",
    "              data = haartdat, weights = temp$ipw.weights*temp2$ipw.weights)\n",
    "\n",
    "print(screenreg(m3, include.zph = FALSE))"
   ]
  },
  {
   "cell_type": "markdown",
   "metadata": {},
   "source": [
    "# My mistake\n",
    "\n",
    "Controlling for everything again."
   ]
  },
  {
   "cell_type": "code",
   "execution_count": 21,
   "metadata": {},
   "outputs": [
    {
     "name": "stdout",
     "output_type": "stream",
     "text": [
      "\n",
      "=========================\n",
      "             Model 1     \n",
      "-------------------------\n",
      "haartind        -0.55    \n",
      "                (0.44)   \n",
      "cd4.sqrt        -0.18 ***\n",
      "                (0.05)   \n",
      "sex              0.04    \n",
      "                (0.46)   \n",
      "age              0.06 ***\n",
      "                (0.02)   \n",
      "-------------------------\n",
      "AIC            402.06    \n",
      "R^2              0.00    \n",
      "Max. R^2         0.02    \n",
      "Num. events     31       \n",
      "Num. obs.    19175       \n",
      "Missings         0       \n",
      "=========================\n",
      "*** p < 0.001, ** p < 0.01, * p < 0.05\n"
     ]
    }
   ],
   "source": [
    "m4 = coxph(Surv(tstart, fuptime, event) ~ haartind + cd4.sqrt + sex + age +   cluster(patient), \n",
    "              data = haartdat, weights = temp$ipw.weights*temp2$ipw.weights)\n",
    "\n",
    "print(screenreg(m4, include.zph = FALSE))"
   ]
  },
  {
   "cell_type": "markdown",
   "metadata": {},
   "source": [
    "# Do you see the problem?\n",
    "\n",
    "- I should be using model 3 (doesn't work for PSID) or model 4. "
   ]
  },
  {
   "cell_type": "code",
   "execution_count": 23,
   "metadata": {},
   "outputs": [
    {
     "name": "stdout",
     "output_type": "stream",
     "text": [
      "\n",
      "============================================================================\n",
      "             Model 1    Model 2       Model 3     Model 4       Model 5     \n",
      "----------------------------------------------------------------------------\n",
      "haartind        -0.59      -0.62         -0.94 *     -0.96 *       -0.55    \n",
      "                (0.43)     (0.42)        (0.45)      (0.45)        (0.44)   \n",
      "cd4.sqrt                   -0.13 **                                -0.18 ***\n",
      "                           (0.05)                                  (0.05)   \n",
      "age                         0.06 ***                  0.06 ***      0.06 ***\n",
      "                           (0.02)                    (0.02)        (0.02)   \n",
      "sex                         0.04                      0.10          0.04    \n",
      "                           (0.45)                    (0.45)        (0.46)   \n",
      "----------------------------------------------------------------------------\n",
      "AIC            390.28     366.73        447.93      433.23        402.06    \n",
      "R^2              0.00       0.00          0.00        0.00          0.00    \n",
      "Max. R^2         0.02       0.02          0.02        0.02          0.02    \n",
      "Num. events     31         31            31          31            31       \n",
      "Num. obs.    19175      19175         19175       19175         19175       \n",
      "Missings         0          0             0           0             0       \n",
      "PH test          0.19       0.00          0.15        0.34          0.00    \n",
      "============================================================================\n",
      "*** p < 0.001, ** p < 0.01, * p < 0.05\n",
      " FALSE"
     ]
    }
   ],
   "source": [
    "print(screenreg(list(m0, m1, m2, m3, m4)), include.zph = FALSE)"
   ]
  },
  {
   "cell_type": "code",
   "execution_count": null,
   "metadata": {},
   "outputs": [],
   "source": []
  }
 ],
 "metadata": {
  "kernelspec": {
   "display_name": "R",
   "language": "R",
   "name": "ir"
  },
  "language_info": {
   "codemirror_mode": "r",
   "file_extension": ".r",
   "mimetype": "text/x-r-source",
   "name": "R",
   "pygments_lexer": "r",
   "version": "3.4.1"
  }
 },
 "nbformat": 4,
 "nbformat_minor": 2
}
